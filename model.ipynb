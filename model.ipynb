{
 "cells": [
  {
   "cell_type": "code",
   "execution_count": 98,
   "id": "d7971f0c",
   "metadata": {},
   "outputs": [],
   "source": [
    "import pandas as pd\n",
    "from nltk.corpus import stopwords\n",
    "from sklearn.feature_extraction.text import TfidfVectorizer\n",
    "from sklearn.decomposition import NMF\n",
    "from sklearn.model_selection import train_test_split\n",
    "import numpy as np\n",
    "import itertools\n",
    "from sklearn.metrics import confusion_matrix\n",
    "import seaborn as sns\n",
    "import matplotlib.pyplot as plt\n"
   ]
  },
  {
   "cell_type": "code",
   "execution_count": 99,
   "id": "38a2ebed",
   "metadata": {},
   "outputs": [],
   "source": [
    "train_df = pd.read_csv('./data/BBC News Train.csv')\n",
    "test_df = pd.read_csv('./data/BBC News Test.csv')\n",
    "df = pd.concat([train_df, test_df])"
   ]
  },
  {
   "cell_type": "markdown",
   "id": "c244fcc9",
   "metadata": {},
   "source": [
    "### Some helper methods I'll use throughout this notebook"
   ]
  },
  {
   "cell_type": "code",
   "execution_count": 100,
   "id": "da5533d9",
   "metadata": {},
   "outputs": [],
   "source": [
    "def plot_confusion_matrix(yt, yp, reordered_categories):\n",
    "    cm = confusion_matrix(yt.apply(lambda x: reordered_categories.index(x)), yp) \n",
    "    plt.figure(figsize=(10, 7))\n",
    "    sns.heatmap(cm, annot=True, fmt='d', cmap='Blues',\n",
    "                xticklabels=reordered_categories, yticklabels=reordered_categories)\n",
    "    plt.xlabel('Predicted')\n",
    "    plt.ylabel('Actual')\n",
    "    plt.title('Confusion Matrix')\n",
    "    plt.show()\n",
    "\n",
    "def reorder_categories(labels, categories):\n",
    "    reordered_categories = []\n",
    "    label_map = dict(zip(labels, categories))\n",
    "    # map each category to its corresponding label\n",
    "    for i in range(5):\n",
    "        reordered_categories.append(label_map[i])\n",
    "    return reordered_categories"
   ]
  },
  {
   "cell_type": "markdown",
   "id": "5dec54f1",
   "metadata": {},
   "source": []
  },
  {
   "cell_type": "code",
   "execution_count": 101,
   "id": "2c306e9e",
   "metadata": {},
   "outputs": [],
   "source": [
    "# remove stop words from Text\n",
    "stop_words = set(stopwords.words(\"english\"))\n",
    "df[\"Text\"] = df[\"Text\"].apply(\n",
    "    lambda x: \" \".join([word for word in x.split() if word.lower() not in stop_words])\n",
    ")"
   ]
  },
  {
   "cell_type": "code",
   "execution_count": 102,
   "id": "9ab44c70",
   "metadata": {},
   "outputs": [],
   "source": [
    "categories = list(train_df[\"Category\"].unique())\n",
    "\n",
    "## Borrowed from week 2 lab\n",
    "def accuracy_score(y_true, y_pred):\n",
    "    \"\"\"\n",
    "    Calculate accuracy score.\n",
    "    y_true: true labels\n",
    "    y_pred: predicted labels\n",
    "    Returns accuracy as a float.\n",
    "    \"\"\"\n",
    "    return np.mean(y_true == y_pred)\n",
    "\n",
    "\n",
    "# permutate topics to see which ones go with which categories\n",
    "def label_permute_compare(ytdf, yp, n=5):\n",
    "    \"\"\"\n",
    "    ytdf: labels dataframe object\n",
    "    yp: nmf label prediction output\n",
    "    Returns permuted label order and accuracy.\n",
    "    Example output: (3, 4, 1, 2, 0), 0.74\n",
    "    \"\"\"\n",
    "    perms = list(itertools.permutations(list(range(n))))\n",
    "    acc = []\n",
    "    for i in range(len(perms)):\n",
    "        mapdict = dict(zip(categories, list(perms[i])))\n",
    "        yt = ytdf.apply(lambda x: mapdict[x])\n",
    "        acc.append(accuracy_score(yt, yp))\n",
    "    idx = np.argmax(acc)\n",
    "    return perms[idx], acc[idx]"
   ]
  },
  {
   "cell_type": "markdown",
   "id": "46371afc",
   "metadata": {},
   "source": [
    "### First Use Labels to Test Accuracy\n",
    "\n",
    "In the end we can combine the train and test datasets because this isn't a supervised learning exercise, but in order to truly measure the accuracy of the labels we have to use the train dataset because it has labels with it."
   ]
  },
  {
   "cell_type": "code",
   "execution_count": 103,
   "id": "9fe6a974",
   "metadata": {},
   "outputs": [
    {
     "name": "stdout",
     "output_type": "stream",
     "text": [
      "(1490, 1000)\n",
      "Category\n",
      "sport            346\n",
      "business         336\n",
      "politics         274\n",
      "entertainment    273\n",
      "tech             261\n",
      "Name: count, dtype: int64\n"
     ]
    }
   ],
   "source": [
    "# Convert to TF-IDF\n",
    "n_features = 1000\n",
    "n_top_words = 20\n",
    "n_topics = 5\n",
    "\n",
    "vectorizer = TfidfVectorizer(\n",
    "    max_df=0.95, min_df=2, max_features=n_features, stop_words=\"english\"\n",
    ")\n",
    "tfidf = vectorizer.fit_transform(train_df[\"Text\"])\n",
    "print(vectorizer.transform(train_df[\"Text\"]).shape)\n",
    "print(train_df[\"Category\"].value_counts())"
   ]
  },
  {
   "cell_type": "code",
   "execution_count": 104,
   "id": "79c8300e",
   "metadata": {},
   "outputs": [
    {
     "name": "stdout",
     "output_type": "stream",
     "text": [
      "Labels: (0, 4, 1, 2, 3), Accuracy: 0.89\n",
      "Reordered categories: ['business', 'politics', 'sport', 'entertainment', 'tech']\n"
     ]
    }
   ],
   "source": [
    "nmf = NMF(n_components=n_topics, random_state=1).fit(tfidf)\n",
    "\n",
    "labels, train_acc = label_permute_compare(\n",
    "    train_df[\"Category\"], nmf.transform(vectorizer.transform(train_df[\"Text\"])).argmax(axis=1), n_topics\n",
    ")\n",
    "print(f\"Labels: {labels}, Accuracy: {train_acc:.2f}\")\n",
    "reordered_categories = reorder_categories(labels, categories)\n",
    "print(f\"Reordered categories: {reordered_categories}\")"
   ]
  },
  {
   "cell_type": "code",
   "execution_count": 105,
   "id": "61078ba7",
   "metadata": {},
   "outputs": [],
   "source": [
    "# Get the test responses just for fun\n",
    "tfidf_test = vectorizer.transform(test_df['Text'])\n",
    "\n",
    "# compare to test_y\n",
    "predicted_topics = nmf.transform(vectorizer.transform(test_df['Text'])).argmax(axis=1)\n",
    "\n",
    "()\n",
    "submission_df = test_df.copy()\n",
    "submission_df['Category'] = [reordered_categories[i] for i in predicted_topics]\n",
    "submission_df[['ArticleId', 'Category']].to_csv('./output/submission.csv', index=False)"
   ]
  },
  {
   "cell_type": "markdown",
   "id": "9729970a",
   "metadata": {},
   "source": [
    "### Combined train and test because unsupervised algorithm doesn't need labels"
   ]
  },
  {
   "cell_type": "code",
   "execution_count": 106,
   "id": "295ad27e",
   "metadata": {},
   "outputs": [
    {
     "name": "stdout",
     "output_type": "stream",
     "text": [
      "[4 0 2 ... 4 2 4]\n"
     ]
    }
   ],
   "source": [
    "full_tfidf = vectorizer.fit_transform(df[\"Text\"])\n",
    "yp = nmf.transform(vectorizer.transform(df[\"Text\"])).argmax(axis=1)\n",
    "print(yp)\n"
   ]
  },
  {
   "cell_type": "markdown",
   "id": "7d91401b",
   "metadata": {},
   "source": [
    "### Optimum Hyperparameters\n",
    "\n",
    "Loop through 3 different hyperparameters and identify which combination provides the best accuracy."
   ]
  },
  {
   "cell_type": "code",
   "execution_count": 107,
   "id": "cbc68738",
   "metadata": {},
   "outputs": [
    {
     "name": "stdout",
     "output_type": "stream",
     "text": [
      "(0.8, 3, 2500)\n"
     ]
    }
   ],
   "source": [
    "# In order to test the accuracy with different hyperparameters I need to know the labels so there is some data splitting here\n",
    "X_train, X_test, y_train, y_test = train_test_split(\n",
    "    train_df[\"Text\"], train_df[\"Category\"], test_size=0.2, random_state=42\n",
    ")\n",
    "\n",
    "\n",
    "# Try different types of max_df and min_df and compare the accuracies\n",
    "def evaluate_tfidf_params(max_df, min_df, n_features, train_x, test_x, train_y, test_y):\n",
    "    vectorizer = TfidfVectorizer(\n",
    "        max_df=max_df, min_df=min_df, max_features=n_features, stop_words=\"english\"\n",
    "    )\n",
    "    tfidf = vectorizer.fit_transform(train_x)\n",
    "    nmf = NMF(n_components=n_topics, random_state=1).fit(tfidf)\n",
    "\n",
    "    labels, train_acc = label_permute_compare(\n",
    "        train_y, nmf.transform(vectorizer.transform(train_x)).argmax(axis=1), n_topics\n",
    "    )\n",
    "    label_map = dict(zip(categories, labels))\n",
    "\n",
    "    tfidf_test = vectorizer.transform(test_x)\n",
    "    predicted_topics = nmf.transform(tfidf_test)\n",
    "    yp = predicted_topics.argmax(axis=1)\n",
    "\n",
    "    test_acc = accuracy_score(test_y.apply(lambda x: label_map[x]), yp)\n",
    "\n",
    "    return train_acc, test_acc, yp, labels\n",
    "\n",
    "\n",
    "# Example usage of evaluate_tfidf_params\n",
    "max_dfs = [0.99, 0.95, 0.9, 0.85, 0.8]\n",
    "min_dfs = [2, 3, 4, 10, 20]\n",
    "features_array = [250, 500, 1000, 1500, 2000, 2500]\n",
    "acc = 0\n",
    "\n",
    "# Make a table of the accuracies for all permutations of max_df, min_df, and n_features\n",
    "results = []\n",
    "best_accuracy = 0\n",
    "best_params = None\n",
    "for max_df in max_dfs:\n",
    "    for min_df in min_dfs:\n",
    "        for n_features in features_array:\n",
    "            train_acc, test_acc, _, _ = evaluate_tfidf_params(\n",
    "                max_df=max_df,\n",
    "                min_df=min_df,\n",
    "                n_features=n_features,\n",
    "                train_x=X_train,\n",
    "                test_x=X_test,\n",
    "                train_y=y_train,\n",
    "                test_y=y_test,\n",
    "            )\n",
    "\n",
    "            if test_acc > best_accuracy:\n",
    "                best_accuracy = test_acc\n",
    "                best_params = (max_df, min_df, n_features)\n",
    "            results.append(\n",
    "                {\n",
    "                    \"max_df\": max_df,\n",
    "                    \"min_df\": min_df,\n",
    "                    \"n_features\": n_features,\n",
    "                    \"train_accuracy\": train_acc,\n",
    "                    \"test_accuracy\": test_acc,\n",
    "                }\n",
    "            )\n",
    "results_df = pd.DataFrame(results)\n",
    "# Save the results to a CSV file\n",
    "results_df.to_csv(\"tfidf_results.csv\", index=False)\n",
    "# Print the results DataFrame\n",
    "print(best_params)"
   ]
  },
  {
   "cell_type": "code",
   "execution_count": 108,
   "id": "2e90765e",
   "metadata": {},
   "outputs": [],
   "source": [
    "# I didn't quite figure out how to use Word2Vec with NMF, so I will leave this commented out for now.\n",
    "# One thing I noticed was that the Word2Vec model returned negative values, which NMF does not accept.\n",
    "# I tried to set negative values to zeroes, but it didn't work well with NMF.\n",
    "# The shape of the Word2Vec vectors was also different from the TF-IDF vectors, which made it difficult to use NMF directly.\n",
    "\n",
    "# # Try out word2vec instead of TF-IDF\n",
    "# from gensim.models import Word2Vec\n",
    "# # Create a Word2Vec model\n",
    "# word2vec_model = Word2Vec(sentences=X_train, vector_size=100, window=5, min_count=1, workers=4)\n",
    "# print(X_train.shape)\n",
    "# # Use NMF to find topics just like before\n",
    "# # Split the data into training and test sets\n",
    "# # Fit NMF on the Word2Vec features\n",
    "# w2v_vectors = word2vec_model.wv.vectors\n",
    "# print(w2v_vectors.shape)\n",
    "# # Set negative values to zeroes\n",
    "# w2v_vectors[w2v_vectors < 0] = 0\n",
    "# print(w2v_vectors.shape)\n",
    "# nmf_w2v = NMF(n_components=n_topics, random_state=1).fit(w2v_vectors)\n",
    "# print(nmf_w2v.components_.shape)\n",
    "# # Get labels and accuracy for train_y using Word2Vec features\n",
    "# labels_w2v, train_acc_w2v = label_permute_compare(y_train, nmf_w2v.transform(w2v_vectors).argmax(axis=1), n_topics)\n",
    "# print(f'Train accuracy with Word2Vec: {train_acc_w2v:.2f}')\n",
    "# # Predict topics for the test set using Word2Vec features"
   ]
  },
  {
   "cell_type": "code",
   "execution_count": 109,
   "id": "7960d7d5",
   "metadata": {},
   "outputs": [
    {
     "name": "stdout",
     "output_type": "stream",
     "text": [
      "(0.99, 10, 2000)\n"
     ]
    }
   ],
   "source": [
    "# lemmatize the text from the TFIDF section and run it through again\n",
    "from nltk.stem import WordNetLemmatizer\n",
    "\n",
    "lemmatizer = WordNetLemmatizer()\n",
    "\n",
    "lemmatized_text = train_df[\"Text\"].apply(\n",
    "    lambda x: \" \".join([lemmatizer.lemmatize(word) for word in x.split()])\n",
    ")\n",
    "\n",
    "X_train, X_test, y_train, y_test = train_test_split(\n",
    "    lemmatized_text, train_df[\"Category\"], test_size=0.2, random_state=42\n",
    ")\n",
    "\n",
    "best_accuracy = 0\n",
    "best_params = None\n",
    "for max_df in max_dfs:\n",
    "    for min_df in min_dfs:\n",
    "        for n_features in features_array:\n",
    "            train_acc, test_acc, _, _ = evaluate_tfidf_params(\n",
    "                max_df=max_df,\n",
    "                min_df=min_df,\n",
    "                n_features=n_features,\n",
    "                train_x=X_train,\n",
    "                test_x=X_test,\n",
    "                train_y=y_train,\n",
    "                test_y=y_test,\n",
    "            )\n",
    "\n",
    "            if test_acc > best_accuracy:\n",
    "                best_accuracy = test_acc\n",
    "                best_params = (max_df, min_df, n_features)\n",
    "print(best_params)"
   ]
  },
  {
   "cell_type": "markdown",
   "id": "6c76dd29",
   "metadata": {},
   "source": [
    "### Oddly worse with bigrams"
   ]
  },
  {
   "cell_type": "code",
   "execution_count": 110,
   "id": "a23417d4",
   "metadata": {},
   "outputs": [
    {
     "name": "stdout",
     "output_type": "stream",
     "text": [
      "Bigram Train Accuracy: 0.64, Test Accuracy: 0.64\n"
     ]
    }
   ],
   "source": [
    "# bigram the text and then run tfidf\n",
    "vectorizer = TfidfVectorizer(ngram_range=(2, 2), stop_words='english', max_df=0.8, min_df=4, max_features=1500)\n",
    "train_x = vectorizer.fit_transform(X_train)\n",
    "nmf = NMF(n_components=n_topics, random_state=1).fit(train_x)\n",
    "\n",
    "labels, train_acc = label_permute_compare(\n",
    "    y_train, nmf.transform(vectorizer.transform(X_train)).argmax(axis=1), n_topics\n",
    ")\n",
    "label_map = dict(zip(categories, labels))\n",
    "\n",
    "test_x = vectorizer.transform(X_test)\n",
    "predicted_topics = nmf.transform(test_x)\n",
    "yp = predicted_topics.argmax(axis=1)\n",
    "\n",
    "test_acc = accuracy_score(y_test.apply(lambda x: label_map[x]), yp)\n",
    "\n",
    "print(f\"Bigram Train Accuracy: {train_acc:.2f}, Test Accuracy: {test_acc:.2f}\")"
   ]
  },
  {
   "cell_type": "markdown",
   "id": "a7cc6f6f",
   "metadata": {},
   "source": [
    "### Confusion Matrix for Optimal Hyperparameters"
   ]
  },
  {
   "cell_type": "code",
   "execution_count": 111,
   "id": "a2766bf3",
   "metadata": {},
   "outputs": [
    {
     "name": "stdout",
     "output_type": "stream",
     "text": [
      "Accuracy: 0.93\n"
     ]
    },
    {
     "data": {
      "image/png": "[encoded data removed]",
      "text/plain": [
       "<Figure size 1000x700 with 2 Axes>"
      ]
     },
     "metadata": {},
     "output_type": "display_data"
    }
   ],
   "source": [
    "X_train, X_test, y_train, y_test = train_test_split(\n",
    "    train_df[\"Text\"], train_df[\"Category\"], test_size=0.2, random_state=42\n",
    ")\n",
    "train_acc, test_acc, yp, labels = evaluate_tfidf_params(.8, 4, 1500, X_train, X_test, y_train, y_test)\n",
    "\n",
    "print(f\"Accuracy: {test_acc:.2f}\")\n",
    "reordered_categories = reorder_categories(labels, categories)\n",
    "plot_confusion_matrix(y_test, yp, reordered_categories)\n"
   ]
  }
 ],
 "metadata": {
  "kernelspec": {
   "display_name": "kaggle",
   "language": "python",
   "name": "python3"
  },
  "language_info": {
   "codemirror_mode": {
    "name": "ipython",
    "version": 3
   },
   "file_extension": ".py",
   "mimetype": "text/x-python",
   "name": "python",
   "nbconvert_exporter": "python",
   "pygments_lexer": "ipython3",
   "version": "3.10.16"
  }
 },
 "nbformat": 4,
 "nbformat_minor": 5
}
