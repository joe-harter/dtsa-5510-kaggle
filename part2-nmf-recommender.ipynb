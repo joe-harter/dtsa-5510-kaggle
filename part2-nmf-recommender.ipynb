{
 "cells": [
  {
   "cell_type": "code",
   "execution_count": 2,
   "id": "437ae24f",
   "metadata": {},
   "outputs": [],
   "source": [
    "import pandas as pd"
   ]
  },
  {
   "cell_type": "markdown",
   "id": "67325925",
   "metadata": {},
   "source": [
    "## 1. Load and Model Movie Recommender with NMF"
   ]
  },
  {
   "cell_type": "code",
   "execution_count": null,
   "id": "191f2761",
   "metadata": {},
   "outputs": [
    {
     "data": {
      "text/html": [
       "<div>\n",
       "<style scoped>\n",
       "    .dataframe tbody tr th:only-of-type {\n",
       "        vertical-align: middle;\n",
       "    }\n",
       "\n",
       "    .dataframe tbody tr th {\n",
       "        vertical-align: top;\n",
       "    }\n",
       "\n",
       "    .dataframe thead th {\n",
       "        text-align: right;\n",
       "    }\n",
       "</style>\n",
       "<table border=\"1\" class=\"dataframe\">\n",
       "  <thead>\n",
       "    <tr style=\"text-align: right;\">\n",
       "      <th></th>\n",
       "      <th>uID</th>\n",
       "      <th>mID</th>\n",
       "      <th>rating</th>\n",
       "    </tr>\n",
       "  </thead>\n",
       "  <tbody>\n",
       "    <tr>\n",
       "      <th>0</th>\n",
       "      <td>2233</td>\n",
       "      <td>440</td>\n",
       "      <td>4</td>\n",
       "    </tr>\n",
       "    <tr>\n",
       "      <th>1</th>\n",
       "      <td>4274</td>\n",
       "      <td>587</td>\n",
       "      <td>5</td>\n",
       "    </tr>\n",
       "    <tr>\n",
       "      <th>2</th>\n",
       "      <td>2498</td>\n",
       "      <td>454</td>\n",
       "      <td>3</td>\n",
       "    </tr>\n",
       "    <tr>\n",
       "      <th>3</th>\n",
       "      <td>2868</td>\n",
       "      <td>2336</td>\n",
       "      <td>5</td>\n",
       "    </tr>\n",
       "    <tr>\n",
       "      <th>4</th>\n",
       "      <td>1636</td>\n",
       "      <td>2686</td>\n",
       "      <td>5</td>\n",
       "    </tr>\n",
       "  </tbody>\n",
       "</table>\n",
       "</div>"
      ],
      "text/plain": [
       "    uID   mID  rating\n",
       "0  2233   440       4\n",
       "1  4274   587       5\n",
       "2  2498   454       3\n",
       "3  2868  2336       5\n",
       "4  1636  2686       5"
      ]
     },
     "execution_count": 3,
     "metadata": {},
     "output_type": "execute_result"
    }
   ],
   "source": [
    "train = pd.read_csv('data/train.csv')\n",
    "test = pd.read_csv('data/test.csv')"
   ]
  },
  {
   "cell_type": "code",
   "execution_count": 16,
   "id": "7cc40ebe",
   "metadata": {},
   "outputs": [
    {
     "name": "stdout",
     "output_type": "stream",
     "text": [
      "RMSE: 0.8531\n"
     ]
    }
   ],
   "source": [
    "# Use NMF to predict ratings of missing values in the test set\n",
    "from sklearn.decomposition import NMF\n",
    "from sklearn.metrics import root_mean_squared_error\n",
    "\n",
    "# A paper (https://arxiv.org/pdf/2407.08916?) recommends n_components=15 for NMF in recommender systems\n",
    "nmf = NMF(n_components=15, random_state=42)\n",
    "X = nmf.fit_transform(train)\n",
    "W = nmf.transform(test)\n",
    "\n",
    "# Should now have predicted ratings for the test set\n",
    "pred = W @ nmf.components_\n",
    "\n",
    "rmse = root_mean_squared_error(test, pred)\n",
    "print(f'RMSE: {rmse:.4f}')\n"
   ]
  },
  {
   "cell_type": "markdown",
   "id": "380531d3",
   "metadata": {},
   "source": [
    "## 2. Discussion of Results"
   ]
  },
  {
   "cell_type": "markdown",
   "id": "d7531e86",
   "metadata": {},
   "source": [
    "I didn't quite understand how the n_components mattered with this problem, but after some research (see links below) it seemed that as we added more components then the results would become more \"personalized\". It is unintuitive for me, but the results were pretty good.\n",
    "\n",
    "https://arxiv.org/pdf/2407.08916?\n",
    "\n",
    "https://medium.com/@paritosh_30025/recommendation-using-matrix-factorization-5223a8ee1f4"
   ]
  },
  {
   "cell_type": "markdown",
   "id": "60360514",
   "metadata": {},
   "source": []
  }
 ],
 "metadata": {
  "kernelspec": {
   "display_name": "kaggle",
   "language": "python",
   "name": "python3"
  },
  "language_info": {
   "codemirror_mode": {
    "name": "ipython",
    "version": 3
   },
   "file_extension": ".py",
   "mimetype": "text/x-python",
   "name": "python",
   "nbconvert_exporter": "python",
   "pygments_lexer": "ipython3",
   "version": "3.10.16"
  }
 },
 "nbformat": 4,
 "nbformat_minor": 5
}
